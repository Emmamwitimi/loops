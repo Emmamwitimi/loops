{
 "cells": [
  {
   "cell_type": "code",
   "execution_count": 2,
   "id": "fac18b58",
   "metadata": {},
   "outputs": [],
   "source": [
    "#how to create dictionaries\n",
    "\n",
    "d={}\n",
    "#d={\"geoge\":32, \"tom\":24}\n",
    "#or\n",
    "d=dict()"
   ]
  },
  {
   "cell_type": "code",
   "execution_count": 3,
   "id": "1af10def",
   "metadata": {},
   "outputs": [],
   "source": [
    "d[\"george\"]=24"
   ]
  },
  {
   "cell_type": "code",
   "execution_count": 5,
   "id": "872d0a32",
   "metadata": {},
   "outputs": [],
   "source": [
    "d[\"tom\"]=20\n",
    "d[\"jennie\"]=16"
   ]
  },
  {
   "cell_type": "code",
   "execution_count": 6,
   "id": "5eb2f2b3",
   "metadata": {},
   "outputs": [
    {
     "name": "stdout",
     "output_type": "stream",
     "text": [
      "24\n",
      "16\n",
      "20\n"
     ]
    }
   ],
   "source": [
    "print(d[\"george\"])\n",
    "print(d[\"jennie\"])\n",
    "print(d[\"tom\"])"
   ]
  },
  {
   "cell_type": "code",
   "execution_count": null,
   "id": "3faaff10",
   "metadata": {},
   "outputs": [],
   "source": [
    "#value can be any type\n",
    "#keys can only be no or strings\n",
    "#we can mix diff types of keys\n"
   ]
  },
  {
   "cell_type": "code",
   "execution_count": 9,
   "id": "a811e0b1",
   "metadata": {},
   "outputs": [
    {
     "name": "stdout",
     "output_type": "stream",
     "text": [
      "key\n",
      "george\n",
      "value:\n",
      "24\n",
      "\n",
      "key\n",
      "tom\n",
      "value:\n",
      "20\n",
      "\n",
      "key\n",
      "jennie\n",
      "value:\n",
      "16\n",
      "\n"
     ]
    }
   ],
   "source": [
    "#how to iterate(repeat) over key-value pairs\n",
    "for key, value in d.items():\n",
    "    print(\"key\")\n",
    "    print(key)\n",
    "    print(\"value:\")\n",
    "    print(value)\n",
    "    print(\"\")\n",
    "    #to create space print an empty string"
   ]
  },
  {
   "cell_type": "code",
   "execution_count": null,
   "id": "4c0bd01d",
   "metadata": {},
   "outputs": [],
   "source": []
  }
 ],
 "metadata": {
  "kernelspec": {
   "display_name": "Python 3",
   "language": "python",
   "name": "python3"
  },
  "language_info": {
   "codemirror_mode": {
    "name": "ipython",
    "version": 3
   },
   "file_extension": ".py",
   "mimetype": "text/x-python",
   "name": "python",
   "nbconvert_exporter": "python",
   "pygments_lexer": "ipython3",
   "version": "3.8.8"
  }
 },
 "nbformat": 4,
 "nbformat_minor": 5
}
